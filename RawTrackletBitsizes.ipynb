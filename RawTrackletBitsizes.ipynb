{
  "cells": [
    {
      "cell_type": "markdown",
      "source": [
        "# Considerations for the Run-3 Tracklet Data Format\n",
        "\n",
        "This document looks at some numbers for granularity and range of position \n",
        "$y$ and deflection $dy$ in run 3 for different numbers of bits assigned to \n",
        "them. \n",
        "\n",
        "I started to put these numbers together after a discussion with Alex. The \n",
        "main outcome from the discussion that 20 bits of PID information should be \n",
        "sufficient, to be used for 2 time slices (Q0,Q1) with 7 bits, and a third \n",
        "shorter time slice (Q2) with 6 bits, covering for example 2-3 time bins \n",
        "around the amplification peak.\n",
        "\n",
        "With 6 bits for common information per MCM (4 bits for the pad row plus 2 \n",
        "common bits for the position in y direction) and 5 bits to ensure the data\n",
        "is not misrepresented, this leaves (128 - 11)/3 - 20 = 19 bits \n",
        "for position and slope. Before the discussion, we planned on 10 bit for the \n",
        "position within the MCM and 6 bit for the slope. \n",
        "\n",
        "With the revised information, we have 3 additional bits that can be used for\n",
        "the slope and/or position. Here I want to look at the numbers what resolution \n",
        "we would get from these additional bits."
      ],
      "metadata": {}
    },
    {
      "cell_type": "markdown",
      "source": [
        "### Print the statistics \n",
        "\n",
        "The code is not difficult, but one might run it a few times for the best compromise."
      ],
      "metadata": {}
    },
    {
      "cell_type": "code",
      "source": [
        "def print_stats(nbits_y, delta_y, nbits_d, delta_d):\n",
        "\n",
        "    padwidth = { 0: 6.5, 5: 8.0 }\n",
        "\n",
        "    # translate number of bits to pos/neg range of integer value\n",
        "    nstep_y = 2**(nbits_y-1)\n",
        "    nstep_d = 2**(nbits_d-1)\n",
        "\n",
        "    ndrift = 20\n",
        "\n",
        "    print(f\"Drift velocity: {3/ndrift*10} cm/us\")\n",
        "    print()\n",
        "\n",
        "    for L,w in padwidth.items():\n",
        "\n",
        "        print(f\"position   LSB   for L{L}: {delta_y * w *1000} um\" )\n",
        "        print(f\"position  range  for L{L}: {delta_y * w * nstep_y} mm\" )\n",
        "        print(f\"position  range  for L{L}: {delta_y * nstep_y} pads\" )\n",
        "    \n",
        "        print()\n",
        "    \n",
        "        print(f\"deflection   LSB   for L{L}: {delta_d * ndrift * w * 1000} um\" )\n",
        "        print(f\"deflection  range  for L{L}: {delta_d * ndrift * w * nstep_d} mm\" )\n",
        "        print(f\"deflection  range  for L{L}: {delta_d * ndrift * nstep_d} pads\" )\n",
        "        \n",
        "        print()\n",
        "        print()\n",
        "\n"
      ],
      "outputs": [],
      "execution_count": null,
      "metadata": {}
    },
    {
      "cell_type": "markdown",
      "source": [
        "## Scenario 1: 3 additional bits for slope\n",
        "\n",
        "This is what was discussed at the meeting. It provides ample space for the \n",
        "deflection, but the position is somewhat squeezed, and we might be limited\n",
        "at the edges of the MCM."
      ],
      "metadata": {}
    },
    {
      "cell_type": "code",
      "source": [
        "nbits_y = 10     # number of bits to be used for position infot\n",
        "delta_y = 2e-2   # granularity/LSB of position in pad units\n",
        "\n",
        "nbits_d = 9      # number of bits for deflection\n",
        "delta_d = 8e-4   # granularity/LSB of deflection in pads per timebin\n",
        "\n",
        "print_stats(nbits_y, delta_y, nbits_d, delta_d)"
      ],
      "outputs": [],
      "execution_count": null,
      "metadata": {}
    },
    {
      "cell_type": "markdown",
      "source": [
        "## Scenario 2: 1 additional bit for position, 2 for slope\n",
        "\n",
        "This might be a better compromise between additional range (and slightly\n",
        "finer granularity) for the position and still much better slope coverage."
      ],
      "metadata": {}
    },
    {
      "cell_type": "code",
      "source": [
        "nbits_y = 11     # number of bits to be used for position infot\n",
        "delta_y = 1.5e-2   # granularity/LSB of position in pad units\n",
        "\n",
        "nbits_d = 8      # number of bits for deflection\n",
        "delta_d = 10e-4   # granularity/LSB of deflection in pads per timebin\n",
        "\n",
        "print_stats(nbits_y, delta_y, nbits_d, delta_d)"
      ],
      "outputs": [],
      "execution_count": null,
      "metadata": {}
    },
    {
      "cell_type": "code",
      "source": [],
      "outputs": [],
      "execution_count": null,
      "metadata": {}
    },
    {
      "cell_type": "code",
      "source": [],
      "outputs": [],
      "execution_count": null,
      "metadata": {}
    }
  ],
  "metadata": {
    "kernelspec": {
      "display_name": "Python 3",
      "language": "python",
      "name": "python3"
    },
    "language_info": {
      "codemirror_mode": {
        "name": "ipython",
        "version": 3
      },
      "file_extension": ".py",
      "mimetype": "text/x-python",
      "name": "python",
      "nbconvert_exporter": "python",
      "pygments_lexer": "ipython3",
      "version": "3.7.7"
    },
    "nteract": {
      "version": "0.23.1"
    }
  },
  "nbformat": 4,
  "nbformat_minor": 4
}